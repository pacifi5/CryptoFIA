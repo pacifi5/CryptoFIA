{
 "cells": [
  {
   "cell_type": "code",
   "execution_count": 20,
   "id": "60a0ef9e-5eb4-49ba-9282-4395ca1f3870",
   "metadata": {},
   "outputs": [],
   "source": [
    "import pandas as pd\n",
    "from sklearn.tree import DecisionTreeClassifier\n",
    "from sklearn.model_selection import train_test_split\n",
    "from sklearn.metrics import accuracy_score\n",
    "from sklearn.preprocessing import LabelEncoder\n",
    "from sklearn import tree\n",
    "import joblib\n",
    "import numpy as np\n",
    "\n",
    "# Load dataset\n",
    "df = pd.read_csv(\"DataSets/NewDataSet2.csv\")\n",
    "\n",
    "# Separate features and target\n",
    "X = df.drop(columns=['Cipher'])\n",
    "y = df['Cipher']\n",
    "\n",
    "# Convert categorical data in X to numeric using LabelEncoder\n",
    "label_encoders = {}  # To store label encoders for each categorical column\n",
    "for column in X.columns:\n",
    "    if X[column].dtype == 'object':  # Check if the column is of type object (string)\n",
    "        label_encoder = LabelEncoder()\n",
    "        X[column] = label_encoder.fit_transform(X[column])\n",
    "        label_encoders[column] = label_encoder\n",
    "\n",
    "# Split the data into training and test sets\n",
    "#X_train, X_test, y_train, y_test = train_test_split(X, y, test_size=0)\n",
    "\n",
    "# Initialize and train the model\n",
    "model = DecisionTreeClassifier()\n",
    "model.fit(X, y)\n",
    "\n",
    "tree.export_graphviz(model,out_file='ciphersML.dot',\n",
    "                    feature_names=['Text','IC','Top9Letters','Top5Bigrams'],\n",
    "                    class_names = sorted(y.unique()),label = 'all', rounded = True, filled = True\n",
    "                    )\n",
    "\n",
    "# Make predictions on the test set\n",
    "#predictions = model.predict(X_test)\n",
    "\n",
    "# Calculate accuracy\n",
    "#score = accuracy_score(y_test, predictions)\n",
    "#print(f\"Accuracy: {score}\")\n",
    "\n",
    "# Prepare new data for prediction\n",
    "#new_data = {'Cipher': '\tZKHQ ZRUG VHSDUDWLRQ EHFDPH WKH VWDQGDUG VBVWHP LW ZDV VHHQ DV D VLPSOLILFDWLRQ RI URPDQ FXOWXUH EHFDXVH LW XQGHUPLQHG WKH PHWULF DQG UKBWKPLF IOXHQFB JHQHUDWHG WKURXJK VFULSWLR FRQWLQXD LQ FRQWUDVW SDOHRJUDSKHUV WRGDB LGHQWLIB WKH HAWLQFWLRQ RI VFULSWLR FRQWLQXD DV D FULWLFDO IDFWRU LQ DXJPHQWLQJ WKH ZLGHVSUHDG DEVRUSWLRQ RI NQRZOHGJH LQ WKH SUHPRGHUQ HUD', 'IC': 0.06583}\n",
    "\n",
    "# Convert to DataFrame with the same structure as the training data\n",
    "#new_data_df = pd.DataFrame([new_data])\n",
    "# Ensure the columns match the training data\n",
    "#new_data_df = new_data_df.reindex(columns=X.columns)\n",
    "# Make prediction\n",
    "#prediction = model.predict(new_data_df)\n",
    "#print(f\"Prediction: {prediction[0]}\")\n"
   ]
  },
  {
   "cell_type": "code",
   "execution_count": null,
   "id": "54a64e98-d4a2-437d-afdb-06212ad8054c",
   "metadata": {},
   "outputs": [],
   "source": []
  },
  {
   "cell_type": "code",
   "execution_count": null,
   "id": "5bda1bde-945e-4ca0-bce6-238c6ca64d0e",
   "metadata": {},
   "outputs": [],
   "source": []
  }
 ],
 "metadata": {
  "kernelspec": {
   "display_name": "Python 3 (ipykernel)",
   "language": "python",
   "name": "python3"
  },
  "language_info": {
   "codemirror_mode": {
    "name": "ipython",
    "version": 3
   },
   "file_extension": ".py",
   "mimetype": "text/x-python",
   "name": "python",
   "nbconvert_exporter": "python",
   "pygments_lexer": "ipython3",
   "version": "3.12.4"
  }
 },
 "nbformat": 4,
 "nbformat_minor": 5
}
