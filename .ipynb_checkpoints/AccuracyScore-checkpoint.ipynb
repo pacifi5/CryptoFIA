{
 "cells": [
  {
   "cell_type": "code",
   "execution_count": 85,
   "id": "fd058d54-cb2e-4b95-a9a5-e70cf86eab58",
   "metadata": {},
   "outputs": [
    {
     "name": "stdout",
     "output_type": "stream",
     "text": [
      "Accuracy: 0.6360153256704981\n",
      "Prediction: Vigenere\n"
     ]
    }
   ],
   "source": [
    "import pandas as pd\n",
    "from sklearn.tree import DecisionTreeClassifier\n",
    "from sklearn.model_selection import train_test_split\n",
    "from sklearn.metrics import accuracy_score\n",
    "from sklearn.preprocessing import LabelEncoder\n",
    "import numpy as np\n",
    "\n",
    "# Load dataset\n",
    "df = pd.read_csv(\"fullDataset.csv\")\n",
    "\n",
    "# Separate features and target\n",
    "X = df.drop(columns=['Cipher'])\n",
    "y = df['Cipher']\n",
    "\n",
    "# Convert categorical data in X to numeric using LabelEncoder\n",
    "label_encoders = {}  # To store label encoders for each categorical column\n",
    "for column in X.columns:\n",
    "    if X[column].dtype == 'object':  # Check if the column is of type object (string)\n",
    "        label_encoder = LabelEncoder()\n",
    "        X[column] = label_encoder.fit_transform(X[column])\n",
    "        label_encoders[column] = label_encoder\n",
    "\n",
    "# Split the data into training and test sets\n",
    "X_train, X_test, y_train, y_test = train_test_split(X, y, test_size=0.25)\n",
    "\n",
    "# Initialize and train the model\n",
    "model = DecisionTreeClassifier()\n",
    "model.fit(X_train, y_train)\n",
    "\n",
    "# Make predictions on the test set\n",
    "predictions = model.predict(X_test)\n",
    "\n",
    "# Calculate accuracy\n",
    "score = accuracy_score(y_test, predictions)\n",
    "print(f\"Accuracy: {score}\")\n",
    "\n",
    "# Prepare new data for prediction\n",
    "new_data = {'cipher_text': 'dlgc mq cs ywexsre s hgnrr dlgxo gd amepb reto ambocn er kpj', 'some_numerical_feature': 0.04167}\n",
    "\n",
    "# Transform categorical data in new data\n",
    "for column, encoder in label_encoders.items():\n",
    "    if column in new_data:\n",
    "        new_data[column] = encoder.transform([new_data[column]])[0]  # Transform and get the single value\n",
    "\n",
    "# Convert to DataFrame with the same structure as the training data\n",
    "new_data_df = pd.DataFrame([new_data])\n",
    "\n",
    "# Ensure the columns match the training data\n",
    "new_data_df = new_data_df.reindex(columns=X.columns, fill_value=0)  # Fill missing columns with 0 or appropriate values\n",
    "\n",
    "# Make prediction\n",
    "prediction = model.predict(new_data_df)\n",
    "print(f\"Prediction: {prediction[0]}\")\n"
   ]
  },
  {
   "cell_type": "code",
   "execution_count": null,
   "id": "74075ad5-0e1f-4e28-ba31-1e32bee77496",
   "metadata": {},
   "outputs": [],
   "source": []
  },
  {
   "cell_type": "code",
   "execution_count": null,
   "id": "5021e844-2803-45f1-a6d0-37e5f1df01f9",
   "metadata": {},
   "outputs": [],
   "source": []
  },
  {
   "cell_type": "code",
   "execution_count": null,
   "id": "d304c21b-9a1d-417d-be39-f7089cc88ea0",
   "metadata": {},
   "outputs": [],
   "source": []
  }
 ],
 "metadata": {
  "kernelspec": {
   "display_name": "Python 3 (ipykernel)",
   "language": "python",
   "name": "python3"
  },
  "language_info": {
   "codemirror_mode": {
    "name": "ipython",
    "version": 3
   },
   "file_extension": ".py",
   "mimetype": "text/x-python",
   "name": "python",
   "nbconvert_exporter": "python",
   "pygments_lexer": "ipython3",
   "version": "3.12.4"
  }
 },
 "nbformat": 4,
 "nbformat_minor": 5
}
