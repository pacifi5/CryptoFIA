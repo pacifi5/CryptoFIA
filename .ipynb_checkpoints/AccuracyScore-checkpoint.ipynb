{
 "cells": [
  {
   "cell_type": "code",
   "execution_count": 14,
   "id": "60a0ef9e-5eb4-49ba-9282-4395ca1f3870",
   "metadata": {},
   "outputs": [
    {
     "ename": "ImportError",
     "evalue": "cannot import name 'joblib' from 'sklearn.externals' (C:\\Users\\andre\\anaconda3\\Lib\\site-packages\\sklearn\\externals\\__init__.py)",
     "output_type": "error",
     "traceback": [
      "\u001b[1;31m---------------------------------------------------------------------------\u001b[0m",
      "\u001b[1;31mImportError\u001b[0m                               Traceback (most recent call last)",
      "Cell \u001b[1;32mIn[14], line 7\u001b[0m\n\u001b[0;32m      5\u001b[0m \u001b[38;5;28;01mfrom\u001b[39;00m \u001b[38;5;21;01msklearn\u001b[39;00m\u001b[38;5;21;01m.\u001b[39;00m\u001b[38;5;21;01mpreprocessing\u001b[39;00m \u001b[38;5;28;01mimport\u001b[39;00m LabelEncoder\n\u001b[0;32m      6\u001b[0m \u001b[38;5;28;01mimport\u001b[39;00m \u001b[38;5;21;01mnumpy\u001b[39;00m \u001b[38;5;28;01mas\u001b[39;00m \u001b[38;5;21;01mnp\u001b[39;00m\n\u001b[1;32m----> 7\u001b[0m \u001b[38;5;28;01mfrom\u001b[39;00m \u001b[38;5;21;01msklearn\u001b[39;00m\u001b[38;5;21;01m.\u001b[39;00m\u001b[38;5;21;01mexternals\u001b[39;00m \u001b[38;5;28;01mimport\u001b[39;00m joblib\n\u001b[0;32m      9\u001b[0m \u001b[38;5;66;03m# Load dataset\u001b[39;00m\n\u001b[0;32m     10\u001b[0m df \u001b[38;5;241m=\u001b[39m pd\u001b[38;5;241m.\u001b[39mread_csv(\u001b[38;5;124m\"\u001b[39m\u001b[38;5;124mDataSets/NewDataSet2.csv\u001b[39m\u001b[38;5;124m\"\u001b[39m)\n",
      "\u001b[1;31mImportError\u001b[0m: cannot import name 'joblib' from 'sklearn.externals' (C:\\Users\\andre\\anaconda3\\Lib\\site-packages\\sklearn\\externals\\__init__.py)"
     ]
    }
   ],
   "source": [
    "import pandas as pd\n",
    "from sklearn.tree import DecisionTreeClassifier\n",
    "from sklearn.model_selection import train_test_split\n",
    "from sklearn.metrics import accuracy_score\n",
    "from sklearn.preprocessing import LabelEncoder\n",
    "from sklearn.externals import joblib\n",
    "import numpy as np\n",
    "\n",
    "# Load dataset\n",
    "df = pd.read_csv(\"DataSets/NewDataSet2.csv\")\n",
    "\n",
    "# Separate features and target\n",
    "X = df.drop(columns=['Cipher'])\n",
    "y = df['Cipher']\n",
    "\n",
    "# Convert categorical data in X to numeric using LabelEncoder\n",
    "label_encoders = {}  # To store label encoders for each categorical column\n",
    "for column in X.columns:\n",
    "    if X[column].dtype == 'object':  # Check if the column is of type object (string)\n",
    "        label_encoder = LabelEncoder()\n",
    "        X[column] = label_encoder.fit_transform(X[column])\n",
    "        label_encoders[column] = label_encoder\n",
    "\n",
    "# Split the data into training and test sets\n",
    "X_train, X_test, y_train, y_test = train_test_split(X, y, test_size=0)\n",
    "\n",
    "# Initialize and train the model\n",
    "model = DecisionTreeClassifier()\n",
    "model.fit(X_train, y_train)\n",
    "\n",
    "joblib.dump(model,'Dagapeyeff.joblib')\n",
    "\n",
    "# Make predictions on the test set\n",
    "#predictions = model.predict(X_test)\n",
    "\n",
    "# Calculate accuracy\n",
    "#score = accuracy_score(y_test, predictions)\n",
    "#print(f\"Accuracy: {score}\")\n",
    "\n",
    "# Prepare new data for prediction\n",
    "#new_data = {'Cipher': '\tZKHQ ZRUG VHSDUDWLRQ EHFDPH WKH VWDQGDUG VBVWHP LW ZDV VHHQ DV D VLPSOLILFDWLRQ RI URPDQ FXOWXUH EHFDXVH LW XQGHUPLQHG WKH PHWULF DQG UKBWKPLF IOXHQFB JHQHUDWHG WKURXJK VFULSWLR FRQWLQXD LQ FRQWUDVW SDOHRJUDSKHUV WRGDB LGHQWLIB WKH HAWLQFWLRQ RI VFULSWLR FRQWLQXD DV D FULWLFDO IDFWRU LQ DXJPHQWLQJ WKH ZLGHVSUHDG DEVRUSWLRQ RI NQRZOHGJH LQ WKH SUHPRGHUQ HUD', 'IC': 0.06583}\n",
    "\n",
    "# Convert to DataFrame with the same structure as the training data\n",
    "#new_data_df = pd.DataFrame([new_data])\n",
    "# Ensure the columns match the training data\n",
    "#new_data_df = new_data_df.reindex(columns=X.columns)\n",
    "# Make prediction\n",
    "#prediction = model.predict(new_data_df)\n",
    "#print(f\"Prediction: {prediction[0]}\")\n"
   ]
  },
  {
   "cell_type": "code",
   "execution_count": null,
   "id": "54a64e98-d4a2-437d-afdb-06212ad8054c",
   "metadata": {},
   "outputs": [],
   "source": []
  },
  {
   "cell_type": "code",
   "execution_count": null,
   "id": "5bda1bde-945e-4ca0-bce6-238c6ca64d0e",
   "metadata": {},
   "outputs": [],
   "source": []
  }
 ],
 "metadata": {
  "kernelspec": {
   "display_name": "Python 3 (ipykernel)",
   "language": "python",
   "name": "python3"
  },
  "language_info": {
   "codemirror_mode": {
    "name": "ipython",
    "version": 3
   },
   "file_extension": ".py",
   "mimetype": "text/x-python",
   "name": "python",
   "nbconvert_exporter": "python",
   "pygments_lexer": "ipython3",
   "version": "3.12.4"
  }
 },
 "nbformat": 4,
 "nbformat_minor": 5
}
