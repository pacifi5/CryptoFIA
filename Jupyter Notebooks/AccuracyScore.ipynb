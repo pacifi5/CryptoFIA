{
 "cells": [
  {
   "cell_type": "code",
   "execution_count": 1,
   "id": "60a0ef9e-5eb4-49ba-9282-4395ca1f3870",
   "metadata": {},
   "outputs": [
    {
     "ename": "AttributeError",
     "evalue": "'DecisionTreeClassifier' object has no attribute 'dump'",
     "output_type": "error",
     "traceback": [
      "\u001b[1;31m---------------------------------------------------------------------------\u001b[0m",
      "\u001b[1;31mAttributeError\u001b[0m                            Traceback (most recent call last)",
      "Cell \u001b[1;32mIn[1], line 27\u001b[0m\n\u001b[0;32m     24\u001b[0m model \u001b[38;5;241m=\u001b[39m DecisionTreeClassifier()\n\u001b[0;32m     25\u001b[0m model\u001b[38;5;241m.\u001b[39mfit(X, y)\n\u001b[1;32m---> 27\u001b[0m model\u001b[38;5;241m.\u001b[39mdump(model, \u001b[38;5;124m'\u001b[39m\u001b[38;5;124mDagapeyeff.joblib\u001b[39m\u001b[38;5;124m'\u001b[39m)\n\u001b[0;32m     31\u001b[0m \u001b[38;5;66;03m# Convert the new data into a DataFrame\u001b[39;00m\n\u001b[0;32m     32\u001b[0m new_df \u001b[38;5;241m=\u001b[39m pd\u001b[38;5;241m.\u001b[39mDataFrame(new_data)\n",
      "\u001b[1;31mAttributeError\u001b[0m: 'DecisionTreeClassifier' object has no attribute 'dump'"
     ]
    }
   ],
   "source": [
    "import pandas as pd\n",
    "from sklearn.tree import DecisionTreeClassifier\n",
    "from sklearn.model_selection import train_test_split\n",
    "from sklearn.metrics import accuracy_score\n",
    "from sklearn.preprocessing import LabelEncoder\n",
    "from sklearn import tree\n",
    "import joblib\n",
    "import numpy as np\n",
    "\n",
    "df = pd.read_csv(\"DataSets/NewDataSet2.csv\")\n",
    "\n",
    "# Separate features and target\n",
    "X = df.drop(columns=['Cipher'])\n",
    "y = df['Cipher']\n",
    "\n",
    "#Data preparation\n",
    "label_encoders = {}  \n",
    "for column in X.columns:\n",
    "    if X[column].dtype == 'object':  \n",
    "        label_encoder = LabelEncoder()\n",
    "        X[column] = label_encoder.fit_transform(X[column])\n",
    "        label_encoders[column] = label_encoder\n",
    "\n",
    "model = DecisionTreeClassifier()\n",
    "model.fit(X, y)\n",
    "\n",
    "model.dump(model, 'Dagapeyeff.joblib')\n",
    "\n",
    "\n",
    "\n",
    "# Make predictions on the test set\n",
    "#predictions = model.predict(X_test)\n",
    "\n",
    "# Calculate accuracy\n",
    "#score = accuracy_score(y_test, predictions)\n",
    "#print(f\"Accuracy: {score}\")\n",
    "\n",
    "# Prepare new data for prediction\n",
    "#new_data = {'Cipher': '\tZKHQ ZRUG VHSDUDWLRQ EHFDPH WKH VWDQGDUG VBVWHP LW ZDV VHHQ DV D VLPSOLILFDWLRQ RI URPDQ FXOWXUH EHFDXVH LW XQGHUPLQHG WKH PHWULF DQG UKBWKPLF IOXHQFB JHQHUDWHG WKURXJK VFULSWLR FRQWLQXD LQ FRQWUDVW SDOHRJUDSKHUV WRGDB LGHQWLIB WKH HAWLQFWLRQ RI VFULSWLR FRQWLQXD DV D FULWLFDO IDFWRU LQ DXJPHQWLQJ WKH ZLGHVSUHDG DEVRUSWLRQ RI NQRZOHGJH LQ WKH SUHPRGHUQ HUD', 'IC': 0.06583}\n",
    "\n",
    "# Convert to DataFrame with the same structure as the training data\n",
    "#new_data_df = pd.DataFrame([new_data])\n",
    "# Ensure the columns match the training data\n",
    "#new_data_df = new_data_df.reindex(columns=X.columns)\n",
    "# Make prediction\n",
    "#prediction = model.predict(new_data_df)\n",
    "#print(f\"Prediction: {prediction[0]}\")\n"
   ]
  },
  {
   "cell_type": "code",
   "execution_count": 2,
   "id": "54a64e98-d4a2-437d-afdb-06212ad8054c",
   "metadata": {},
   "outputs": [
    {
     "name": "stdout",
     "output_type": "stream",
     "text": [
      "The predicted cipher type is: Vigenere\n"
     ]
    }
   ],
   "source": [
    "import joblib\n",
    "import pandas as pd\n",
    "from sklearn.preprocessing import LabelEncoder\n",
    "\n",
    "# Carica il modello\n",
    "modello = joblib.load('Dagapeyeff.joblib')\n",
    "\n",
    "# Nuovi dati\n",
    "cipher = 'L IHHO OLNH WKLV ZRUNV EHVW RQ VKRUW PHVVDJHV'\n",
    "\n",
    "new_data = {\n",
    "    'Text' : [cipher],\n",
    "    'IC': [0.07357],\n",
    "    'Top9Letters': ['vhlwronku'.lower],\n",
    "    'Top5Bigrams': ['hv ru li hh oo'.lower]\n",
    "}\n",
    "\n",
    "\n",
    "# Convert the new data into a DataFrame\n",
    "new_df = pd.DataFrame(new_data)\n",
    "\n",
    "# Transform the new data using the same label encoders\n",
    "for column in new_df.columns:\n",
    "        label_encoder = LabelEncoder()\n",
    "        new_df[column] = label_encoder.fit_transform(new_df[column])\n",
    "\n",
    "\n",
    "\n",
    "# Load the trained model\n",
    "model = joblib.load('Dagapeyeff.joblib')\n",
    "\n",
    "# Predict the cipher type for the new data\n",
    "predicted_cipher = model.predict(new_df)\n",
    "\n",
    "# Output the prediction\n",
    "print(f\"The predicted cipher type is: {predicted_cipher[0]}\")"
   ]
  },
  {
   "cell_type": "code",
   "execution_count": null,
   "id": "5bda1bde-945e-4ca0-bce6-238c6ca64d0e",
   "metadata": {},
   "outputs": [],
   "source": []
  }
 ],
 "metadata": {
  "kernelspec": {
   "display_name": "Python 3 (ipykernel)",
   "language": "python",
   "name": "python3"
  },
  "language_info": {
   "codemirror_mode": {
    "name": "ipython",
    "version": 3
   },
   "file_extension": ".py",
   "mimetype": "text/x-python",
   "name": "python",
   "nbconvert_exporter": "python",
   "pygments_lexer": "ipython3",
   "version": "3.12.4"
  }
 },
 "nbformat": 4,
 "nbformat_minor": 5
}
